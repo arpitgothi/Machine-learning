{
  "nbformat": 4,
  "nbformat_minor": 0,
  "metadata": {
    "accelerator": "GPU",
    "colab": {
      "name": "KNN.ipynb",
      "provenance": [],
      "collapsed_sections": [],
      "toc_visible": true,
      "include_colab_link": true
    },
    "kernelspec": {
      "display_name": "Python 2",
      "language": "python",
      "name": "python2"
    }
  },
  "cells": [
    {
      "cell_type": "markdown",
      "metadata": {
        "id": "view-in-github",
        "colab_type": "text"
      },
      "source": [
        "<a href=\"https://colab.research.google.com/github/arpitgothi/Machine-learning/blob/master/KNN/KNN.ipynb\" target=\"_parent\"><img src=\"https://colab.research.google.com/assets/colab-badge.svg\" alt=\"Open In Colab\"/></a>"
      ]
    },
    {
      "cell_type": "markdown",
      "metadata": {
        "colab_type": "text",
        "id": "RSw4U94gk0Or"
      },
      "source": [
        "#Multi Class Classification (KNN)\n",
        "Select Dataset of your choice and respond to following questions.\n",
        "\n",
        "**Q1: Why you want to apply Classification on selected dataset? Discuss full story behind dataset.**\n",
        "\n",
        "Ans: As dataset Contains many Columns such as 'RI','Na','Mg','Al','Si','K','Ca','Ba','Fe','Type'.Among them Outcome Column is one dependent variable.Which indicates that the 7 different types of glasses.\n",
        "\n",
        "So here the output or target value will be seven differnt types of outcome. so it is a multi class classification problem.\n",
        "\n",
        "So here we can use K- nearest neighbour classification for Multiclass class Classification.\n",
        "\n",
        "KNN is a non-parametric and lazy learning algorithm. Non-parametric means there is no assumption for underlying data distribution. In other words, the model structure determined from the dataset. This will be very helpful in practice where most of the real world datasets do not follow mathematical theoretical assumptions. Lazy algorithm means it does not need any training data points for model generation. All training data used in the testing phase. \n",
        "\n",
        "\n",
        "\n",
        "**Q2: How many total observations in data?**\n",
        "\n",
        "Ans: 214 rows × 10 columns\n",
        "\n",
        "**Q3: How many independent variables?**\n",
        "\n",
        "Ans: There are total 10 columns out of which 9 columns independent  variable.Here, Except 'Type' Column all other columns are independent.\n",
        "\n",
        "**Q4: Which is dependent variable?**\n",
        "\n",
        "Ans: 'Type' is dependent variable which is indicating that the the 7 different types of glasses.\n",
        "\n",
        "**Q5: Which are most useful variable in estimation? Prove using correlation.**\n",
        "\n",
        "Ans: Here, data has only 9 independent variable which has linear correlation with dependent variable.\n",
        "\n",
        "If there are more than one independent variable, not all independent variables contributes equally in estimation of dependent variable. This can be quatified using correlation between dependent and independent variable.\n",
        "\n",
        "corr function is sklearn can be used to find correlation between variables. We can find correlation of each independent variable with dependent vatiable using loop, store them in a list/dataframe, sort them and finally decide which varible to use in delveloping model.\n",
        "\n",
        "\n",
        "**Q6: Quantify goodness of your model and discuss steps taken for improvement.**\n",
        "\n",
        "Ans:  Goodness of the model can be defined by accuracy of model for different value of k.\n",
        "\n",
        "For better results, normalizing data on the same scale is highly recommended. Generally, the normalization range considered between 0 and 1. KNN is not suitable for the large dimensional data. In such cases, dimension needs to reduce to improve the performance. Also, handling missing values will help us in improving results.\n",
        "\n",
        "**Q7: Can we use KNN for regression also? Why / Why not?**\n",
        "\n",
        "Ans: KNN algorithm can be used for both classification and regression problems. The KNN algorithm uses ‘feature similarity’ to predict the values of any new data points. This means that the new point is assigned a value based on how closely it resembles the points in the training set. From our example, we know that ID11 has height and age similar to ID1 and ID5, so the weight would also approximately be the same.\n",
        "\n",
        "\n",
        "**Q8: Discuss drawbacks of algorithms such as KNN.**\n",
        "\n",
        "Ans: The testing phase of K-nearest neighbor classification is slower and costlier in terms of time and memory. It requires large memory for storing the entire training dataset for prediction. KNN requires scaling of data because KNN uses the Euclidean distance between two data points to find nearest neighbors. Euclidean distance is sensitive to magnitudes. The features with high magnitudes will weight more than features with low magnitudes. KNN also not suitable for large dimensional data."
      ]
    },
    {
      "cell_type": "code",
      "metadata": {
        "colab_type": "code",
        "id": "_bfahaZQ97Rh",
        "colab": {}
      },
      "source": [
        "import pandas as pd  \n",
        "import numpy as np  \n",
        "import matplotlib.pyplot as plt  \n",
        "import seaborn as seabornInstance \n",
        "from sklearn.model_selection import train_test_split \n",
        "from sklearn.linear_model import LinearRegression\n",
        "from sklearn.neighbors import KNeighborsClassifier\n",
        "\n",
        "from google.colab import files\n"
      ],
      "execution_count": 0,
      "outputs": []
    },
    {
      "cell_type": "code",
      "metadata": {
        "colab_type": "code",
        "id": "7fliw7UVDb4_",
        "outputId": "a5a95a6c-c310-4758-fba8-ae29b0c7e297",
        "colab": {
          "base_uri": "https://localhost:8080/",
          "height": 530
        }
      },
      "source": [
        "import seaborn as sns \n",
        "df=pd.read_csv(\"glass.csv\")\n",
        "features = df.columns[:-1].tolist()\n",
        "df.describe()\n",
        "plt.subplots(figsize = (15,8))\n",
        "sns.countplot('Type',data=df).set_title('Count of Glass Types')"
      ],
      "execution_count": 2,
      "outputs": [
        {
          "output_type": "execute_result",
          "data": {
            "text/plain": [
              "Text(0.5,1,'Count of Glass Types')"
            ]
          },
          "metadata": {
            "tags": []
          },
          "execution_count": 2
        },
        {
          "output_type": "display_data",
          "data": {
            "image/png": "[encoded data removed]",
            "text/plain": [
              "<Figure size 1080x576 with 1 Axes>"
            ]
          },
          "metadata": {
            "tags": [],
            "needs_background": "light"
          }
        }
      ]
    },
    {
      "cell_type": "code",
      "metadata": {
        "colab_type": "code",
        "id": "1HNtjzzequ1H",
        "outputId": "5909460f-4357-42ba-8036-1e1ec8cce772",
        "colab": {
          "base_uri": "https://localhost:8080/",
          "height": 281
        }
      },
      "source": [
        "df.info()"
      ],
      "execution_count": 3,
      "outputs": [
        {
          "output_type": "stream",
          "text": [
            "<class 'pandas.core.frame.DataFrame'>\n",
            "RangeIndex: 214 entries, 0 to 213\n",
            "Data columns (total 10 columns):\n",
            "RI      214 non-null float64\n",
            "Na      214 non-null float64\n",
            "Mg      214 non-null float64\n",
            "Al      214 non-null float64\n",
            "Si      214 non-null float64\n",
            "K       214 non-null float64\n",
            "Ca      214 non-null float64\n",
            "Ba      214 non-null float64\n",
            "Fe      214 non-null float64\n",
            "Type    214 non-null int64\n",
            "dtypes: float64(9), int64(1)\n",
            "memory usage: 16.8 KB\n"
          ],
          "name": "stdout"
        }
      ]
    },
    {
      "cell_type": "code",
      "metadata": {
        "colab_type": "code",
        "id": "BNXnQVVRsXVu",
        "outputId": "09a3a72c-a85e-40f5-930a-a079c2ee5518",
        "colab": {
          "base_uri": "https://localhost:8080/",
          "height": 140
        }
      },
      "source": [
        "df['Type'].value_counts()"
      ],
      "execution_count": 4,
      "outputs": [
        {
          "output_type": "execute_result",
          "data": {
            "text/plain": [
              "2    76\n",
              "1    70\n",
              "7    29\n",
              "3    17\n",
              "5    13\n",
              "6     9\n",
              "Name: Type, dtype: int64"
            ]
          },
          "metadata": {
            "tags": []
          },
          "execution_count": 4
        }
      ]
    },
    {
      "cell_type": "code",
      "metadata": {
        "colab_type": "code",
        "id": "fxEKSxImtRVM",
        "colab": {}
      },
      "source": [
        "X = df[features] \n",
        "y = df['Type'] \n",
        "# set a seed and a test size for splitting the dataset \n",
        "seed = 7\n",
        "test_size = 0.2\n",
        "\n",
        "X_train, X_test, y_train, y_test = train_test_split(X, y, test_size = test_size , random_state = seed)"
      ],
      "execution_count": 0,
      "outputs": []
    },
    {
      "cell_type": "code",
      "metadata": {
        "colab_type": "code",
        "id": "EVzP00yptVpp",
        "colab": {}
      },
      "source": [
        "knn = KNeighborsClassifier(n_neighbors=5)\n",
        "\n",
        "#Train the model using the training sets\n",
        "knn.fit(X_train, y_train)\n",
        "\n",
        "#Predict the response for test dataset\n",
        "y_pred = knn.predict(X_test)"
      ],
      "execution_count": 0,
      "outputs": []
    },
    {
      "cell_type": "code",
      "metadata": {
        "colab_type": "code",
        "id": "M94PSy9UuILR",
        "outputId": "deeb86ef-6928-4e30-f90e-9cbc8f8db712",
        "colab": {
          "base_uri": "https://localhost:8080/",
          "height": 425
        }
      },
      "source": [
        "neighbors = np.arange(1, 9) \n",
        "train_accuracy = np.empty(len(neighbors)) \n",
        "test_accuracy = np.empty(len(neighbors)) \n",
        "  \n",
        "# Loop over K values \n",
        "for i, k in enumerate(neighbors): \n",
        "    knn = KNeighborsClassifier(n_neighbors=k) \n",
        "    knn.fit(X_train, y_train) \n",
        "      \n",
        "    # Compute traning and test data accuracy \n",
        "    train_accuracy[i] = knn.score(X_train, y_train) \n",
        "    test_accuracy[i] = knn.score(X_test, y_test) \n",
        "    print(test_accuracy[i])\n",
        "  \n",
        "# Generate plot \n",
        "plt.plot(neighbors, test_accuracy, label = 'Testing dataset Accuracy') \n",
        "plt.plot(neighbors, train_accuracy, label = 'Training dataset Accuracy') \n",
        "  \n",
        "plt.legend() \n",
        "plt.xlabel('n_neighbors') \n",
        "plt.ylabel('Accuracy') \n",
        "plt.show() "
      ],
      "execution_count": 7,
      "outputs": [
        {
          "output_type": "stream",
          "text": [
            "0.6744186046511628\n",
            "0.6511627906976745\n",
            "0.6046511627906976\n",
            "0.5581395348837209\n",
            "0.5813953488372093\n",
            "0.5813953488372093\n",
            "0.5348837209302325\n",
            "0.6046511627906976\n"
          ],
          "name": "stdout"
        },
        {
          "output_type": "display_data",
          "data": {
            "image/png": "[encoded data removed]",
            "text/plain": [
              "<Figure size 432x288 with 1 Axes>"
            ]
          },
          "metadata": {
            "tags": [],
            "needs_background": "light"
          }
        }
      ]
    },
    {
      "cell_type": "code",
      "metadata": {
        "colab_type": "code",
        "id": "C8AXjfXauMOE",
        "colab": {}
      },
      "source": [
        "from sklearn.neighbors import KNeighborsClassifier\n",
        "\n",
        "#Create KNN Classifier\n",
        "knn = KNeighborsClassifier(n_neighbors=3)\n",
        "\n",
        "#Train the model using the training sets\n",
        "knn.fit(X_train, y_train)\n",
        "\n",
        "#Predict the response for test dataset\n",
        "y_pred = knn.predict(X_test)"
      ],
      "execution_count": 0,
      "outputs": []
    },
    {
      "cell_type": "code",
      "metadata": {
        "colab_type": "code",
        "id": "5U3x_cwouPiw",
        "outputId": "3888b2a6-82e1-4fc1-b551-26caa554576f",
        "colab": {
          "base_uri": "https://localhost:8080/",
          "height": 34
        }
      },
      "source": [
        "from sklearn import metrics\n",
        "# Model Accuracy, how often is the classifier correct?\n",
        "print(\"Accuracy:\",metrics.accuracy_score(y_test, y_pred))"
      ],
      "execution_count": 9,
      "outputs": [
        {
          "output_type": "stream",
          "text": [
            "('Accuracy:', 0.6046511627906976)\n"
          ],
          "name": "stdout"
        }
      ]
    }
  ]
}