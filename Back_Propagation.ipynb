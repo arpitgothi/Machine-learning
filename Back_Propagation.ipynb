{
  "nbformat": 4,
  "nbformat_minor": 0,
  "metadata": {
    "accelerator": "GPU",
    "colab": {
      "name": "Back Propagation.ipynb",
      "provenance": [],
      "collapsed_sections": [],
      "include_colab_link": true
    },
    "kernelspec": {
      "name": "python3",
      "display_name": "Python 3"
    }
  },
  "cells": [
    {
      "cell_type": "markdown",
      "metadata": {
        "id": "view-in-github",
        "colab_type": "text"
      },
      "source": [
        "<a href=\"https://colab.research.google.com/github/arpitgothi/Machine-learning/blob/master/Back_Propagation.ipynb\" target=\"_parent\"><img src=\"https://colab.research.google.com/assets/colab-badge.svg\" alt=\"Open In Colab\"/></a>"
      ]
    },
    {
      "cell_type": "markdown",
      "metadata": {
        "colab_type": "text",
        "id": "5fWcKqMErF58"
      },
      "source": [
        "#Implementing Neural Net with back propagation"
      ]
    },
    {
      "cell_type": "code",
      "metadata": {
        "colab_type": "code",
        "id": "Pu5wDuLmrPxK",
        "colab": {}
      },
      "source": [
        "import numpy as np \n",
        "import matplotlib.pyplot as plt\n",
        "\n",
        "import sys "
      ],
      "execution_count": 0,
      "outputs": []
    },
    {
      "cell_type": "markdown",
      "metadata": {
        "colab_type": "text",
        "id": "R02QxZnorXv4"
      },
      "source": [
        "### Training Data"
      ]
    },
    {
      "cell_type": "code",
      "metadata": {
        "colab_type": "code",
        "id": "DKqp4_JOrmFd",
        "colab": {}
      },
      "source": [
        "\n",
        "X = np.array([\n",
        "    [0, 1],\n",
        "    [1, 0],\n",
        "    [1, 1],\n",
        "    [0, 0]\n",
        "])\n",
        "\n",
        "\n",
        "y = np.array([\n",
        "    [1],\n",
        "    [1],\n",
        "    [0],\n",
        "    [0]\n",
        "])"
      ],
      "execution_count": 0,
      "outputs": []
    },
    {
      "cell_type": "code",
      "metadata": {
        "colab_type": "code",
        "id": "OYN7MtmVro6f",
        "outputId": "73f8de69-1c5c-4574-8a3e-6368c344150c",
        "colab": {
          "base_uri": "https://localhost:8080/",
          "height": 87
        }
      },
      "source": [
        "X"
      ],
      "execution_count": 3,
      "outputs": [
        {
          "output_type": "execute_result",
          "data": {
            "text/plain": [
              "array([[0, 1],\n",
              "       [1, 0],\n",
              "       [1, 1],\n",
              "       [0, 0]])"
            ]
          },
          "metadata": {
            "tags": []
          },
          "execution_count": 3
        }
      ]
    },
    {
      "cell_type": "code",
      "metadata": {
        "colab_type": "code",
        "id": "YAQNDxaGrvhX",
        "colab": {}
      },
      "source": [
        "num_i_units = 2 \n",
        "num_h_units = 2 \n",
        "num_o_units = 1"
      ],
      "execution_count": 0,
      "outputs": []
    },
    {
      "cell_type": "code",
      "metadata": {
        "colab_type": "code",
        "id": "yZvHKr3ErzcL",
        "colab": {}
      },
      "source": [
        "learning_rate = 0.01\n",
        "reg_param = 0\n",
        "max_iter = 5000\n",
        "m = 4"
      ],
      "execution_count": 0,
      "outputs": []
    },
    {
      "cell_type": "code",
      "metadata": {
        "colab_type": "code",
        "id": "r14CA3far2tb",
        "colab": {}
      },
      "source": [
        "np.random.seed(1)\n",
        "W1 = np.random.normal(0, 1, (num_h_units, num_i_units)) # 2x2\n",
        "W2 = np.random.normal(0, 1, (num_o_units, num_h_units)) # 1x2\n",
        "\n",
        "B1 = np.random.random((num_h_units, 1)) # 2x1\n",
        "B2 = np.random.random((num_o_units, 1)) # 1x1"
      ],
      "execution_count": 0,
      "outputs": []
    },
    {
      "cell_type": "code",
      "metadata": {
        "colab_type": "code",
        "id": "C74Axylxr-NN",
        "outputId": "33fe89d5-3ca7-4dd1-b05b-eea2ff3a7fd7",
        "colab": {
          "base_uri": "https://localhost:8080/",
          "height": 52
        }
      },
      "source": [
        "W1"
      ],
      "execution_count": 7,
      "outputs": [
        {
          "output_type": "execute_result",
          "data": {
            "text/plain": [
              "array([[ 1.62434536, -0.61175641],\n",
              "       [-0.52817175, -1.07296862]])"
            ]
          },
          "metadata": {
            "tags": []
          },
          "execution_count": 7
        }
      ]
    },
    {
      "cell_type": "code",
      "metadata": {
        "colab_type": "code",
        "id": "D4kOAFi7sJoA",
        "outputId": "40d32a41-5b0a-48b4-e016-40e2dab6376d",
        "colab": {
          "base_uri": "https://localhost:8080/",
          "height": 34
        }
      },
      "source": [
        "W2"
      ],
      "execution_count": 8,
      "outputs": [
        {
          "output_type": "execute_result",
          "data": {
            "text/plain": [
              "array([[ 0.86540763, -2.3015387 ]])"
            ]
          },
          "metadata": {
            "tags": []
          },
          "execution_count": 8
        }
      ]
    },
    {
      "cell_type": "code",
      "metadata": {
        "colab_type": "code",
        "id": "Lu8Ljur9sN1y",
        "outputId": "79d0e2d4-04dd-4bd1-fcf9-235608dcb844",
        "colab": {
          "base_uri": "https://localhost:8080/",
          "height": 52
        }
      },
      "source": [
        "B1"
      ],
      "execution_count": 9,
      "outputs": [
        {
          "output_type": "execute_result",
          "data": {
            "text/plain": [
              "array([[0.41919451],\n",
              "       [0.6852195 ]])"
            ]
          },
          "metadata": {
            "tags": []
          },
          "execution_count": 9
        }
      ]
    },
    {
      "cell_type": "code",
      "metadata": {
        "colab_type": "code",
        "id": "wHFrkn2xsRBy",
        "outputId": "b3b5710a-975b-41e1-8099-ab4f9540a48c",
        "colab": {
          "base_uri": "https://localhost:8080/",
          "height": 34
        }
      },
      "source": [
        "B2"
      ],
      "execution_count": 10,
      "outputs": [
        {
          "output_type": "execute_result",
          "data": {
            "text/plain": [
              "array([[0.20445225]])"
            ]
          },
          "metadata": {
            "tags": []
          },
          "execution_count": 10
        }
      ]
    },
    {
      "cell_type": "code",
      "metadata": {
        "colab_type": "code",
        "id": "OHZtyV_usVWZ",
        "colab": {}
      },
      "source": [
        "def sigmoid(z, derv=False):\n",
        "    if derv: return z * (1 - z)\n",
        "    return 1 / (1 + np.exp(-z))"
      ],
      "execution_count": 0,
      "outputs": []
    },
    {
      "cell_type": "code",
      "metadata": {
        "colab_type": "code",
        "id": "B2SjuXNKsZuo",
        "colab": {}
      },
      "source": [
        "def forward(x, predict=False):\n",
        "    a1 = x.reshape(x.shape[0], 1) # Getting the training example as a column vector.\n",
        "\n",
        "    z2 = W1.dot(a1) + B1 # 2x2 * 2x1 + 2x1 = 2x1\n",
        "    a2 = sigmoid(z2) # 2x1\n",
        "\n",
        "    z3 = W2.dot(a2) + B2 # 1x2 * 2x1 + 1x1 = 1x1\n",
        "    a3 = sigmoid(z3)\n",
        "\n",
        "    if predict: return a3\n",
        "    return (a1, a2, a3)"
      ],
      "execution_count": 0,
      "outputs": []
    },
    {
      "cell_type": "code",
      "metadata": {
        "colab_type": "code",
        "id": "F3r2KmHosfDt",
        "colab": {}
      },
      "source": [
        "dW1 = 0 # Gradient for W1\n",
        "dW2 = 0 # Gradient for W2\n",
        "\n",
        "dB1 = 0 # Gradient for B1\n",
        "dB2 = 0 # Gradient for B2\n",
        "\n",
        "cost = np.zeros((max_iter, 1)) "
      ],
      "execution_count": 0,
      "outputs": []
    },
    {
      "cell_type": "code",
      "metadata": {
        "colab_type": "code",
        "id": "hPBd52_Qsi58",
        "colab": {}
      },
      "source": [
        "def train(_W1, _W2, _B1, _B2): \n",
        "    for i in range(max_iter):\n",
        "        c = 0\n",
        "        \n",
        "        dW1 = 0\n",
        "        dW2 = 0\n",
        "\n",
        "        dB1 = 0\n",
        "        dB2 = 0\n",
        "        \n",
        "        for j in range(m):\n",
        "            sys.stdout.write(\"\\rIteration: {} and {}\".format(i + 1, j + 1))\n",
        "\n",
        "            # Forward Prop.\n",
        "            a0 = X[j].reshape(X[j].shape[0], 1) # 2x1\n",
        "\n",
        "            z1 = _W1.dot(a0) + _B1 # 2x2 * 2x1 + 2x1 = 2x1\n",
        "            a1 = sigmoid(z1) # 2x1\n",
        "\n",
        "            z2 = _W2.dot(a1) + _B2 # 1x2 * 2x1 + 1x1 = 1x1\n",
        "            a2 = sigmoid(z2) # 1x1\n",
        "\n",
        "            # Back prop.\n",
        "            dz2 = a2 - y[j] # 1x1\n",
        "            dW2 += dz2 * a1.T # 1x1 .* 1x2 = 1x2\n",
        "\n",
        "            dz1 = np.multiply((_W2.T * dz2), sigmoid(a1, derv=True)) # (2x1 * 1x1) .* 2x1 = 2x1\n",
        "            dW1 += dz1.dot(a0.T) # 2x1 * 1x2 = 2x2\n",
        "\n",
        "            dB1 += dz1 # 2x1\n",
        "            dB2 += dz2 # 1x1\n",
        "\n",
        "            c = c + (-(y[j] * np.log(a2)) - ((1 - y[j]) * np.log(1 - a2)))\n",
        "            sys.stdout.flush() # Updating the text.\n",
        "        \n",
        "        _W1 = _W1 - learning_rate * (dW1 / m) + ( (reg_param / m) * _W1)\n",
        "        _W2 = _W2 - learning_rate * (dW2 / m) + ( (reg_param / m) * _W2)\n",
        "\n",
        "        _B1 = _B1 - learning_rate * (dB1 / m)\n",
        "        _B2 = _B2 - learning_rate * (dB2 / m)\n",
        "        cost[i] = (c / m) + ( \n",
        "            (reg_param / (2 * m)) * \n",
        "            (\n",
        "                np.sum(np.power(_W1, 2)) + \n",
        "                np.sum(np.power(_W2, 2))\n",
        "            )\n",
        "        )\n",
        "    return (_W1, _W2, _B1, _B2)"
      ],
      "execution_count": 0,
      "outputs": []
    },
    {
      "cell_type": "code",
      "metadata": {
        "colab_type": "code",
        "id": "r3ttRJ_KsmmO",
        "outputId": "430960a4-c958-440d-f798-d13f57ae3d9b",
        "colab": {
          "base_uri": "https://localhost:8080/",
          "height": 34
        }
      },
      "source": [
        "W1, W2, B1, B2 = train(W1, W2, B1, B2)"
      ],
      "execution_count": 15,
      "outputs": [
        {
          "output_type": "stream",
          "text": [
            "Iteration: 5000 and 4"
          ],
          "name": "stdout"
        }
      ]
    },
    {
      "cell_type": "code",
      "metadata": {
        "colab_type": "code",
        "id": "zE9vCcBssy9b",
        "outputId": "ba48d1b3-0c36-4056-d3e7-7f8a5bb34319",
        "colab": {
          "base_uri": "https://localhost:8080/",
          "height": 52
        }
      },
      "source": [
        "W1"
      ],
      "execution_count": 16,
      "outputs": [
        {
          "output_type": "execute_result",
          "data": {
            "text/plain": [
              "array([[ 1.32260643, -0.42332921],\n",
              "       [-1.4336158 , -1.67239068]])"
            ]
          },
          "metadata": {
            "tags": []
          },
          "execution_count": 16
        }
      ]
    },
    {
      "cell_type": "code",
      "metadata": {
        "colab_type": "code",
        "id": "r4qc2sjNs6SY",
        "outputId": "a82c4e61-c737-404e-e810-2b6579ae957f",
        "colab": {
          "base_uri": "https://localhost:8080/",
          "height": 34
        }
      },
      "source": [
        "W2"
      ],
      "execution_count": 17,
      "outputs": [
        {
          "output_type": "execute_result",
          "data": {
            "text/plain": [
              "array([[ 0.25299514, -2.21317287]])"
            ]
          },
          "metadata": {
            "tags": []
          },
          "execution_count": 17
        }
      ]
    },
    {
      "cell_type": "code",
      "metadata": {
        "colab_type": "code",
        "id": "v-JZhON8s9H6",
        "outputId": "3e6a3db0-226f-43b1-f539-233d8c3d054b",
        "colab": {
          "base_uri": "https://localhost:8080/",
          "height": 52
        }
      },
      "source": [
        "B1"
      ],
      "execution_count": 18,
      "outputs": [
        {
          "output_type": "execute_result",
          "data": {
            "text/plain": [
              "array([[ 0.37348207],\n",
              "       [-0.22080277]])"
            ]
          },
          "metadata": {
            "tags": []
          },
          "execution_count": 18
        }
      ]
    },
    {
      "cell_type": "code",
      "metadata": {
        "colab_type": "code",
        "id": "xmMnJ3D3tCiB",
        "outputId": "09206a41-110e-4745-f5bc-5386af2d09c3",
        "colab": {
          "base_uri": "https://localhost:8080/",
          "height": 34
        }
      },
      "source": [
        "B2"
      ],
      "execution_count": 19,
      "outputs": [
        {
          "output_type": "execute_result",
          "data": {
            "text/plain": [
              "array([[0.24523225]])"
            ]
          },
          "metadata": {
            "tags": []
          },
          "execution_count": 19
        }
      ]
    },
    {
      "cell_type": "code",
      "metadata": {
        "colab_type": "code",
        "id": "D3pLoKObtERz",
        "outputId": "239d64cf-c2a7-4f7a-c29d-6049e9fb9c93",
        "colab": {
          "base_uri": "https://localhost:8080/",
          "height": 283
        }
      },
      "source": [
        "# Assigning the axes to the different elements.\n",
        "plt.plot(range(max_iter), cost)\n",
        "\n",
        "# Labelling the x axis as the iterations axis.\n",
        "plt.xlabel(\"Iterations\")\n",
        "\n",
        "# Labelling the y axis as the cost axis.\n",
        "plt.ylabel(\"Cost\")\n",
        "\n",
        "# Showing the plot.\n",
        "plt.show()"
      ],
      "execution_count": 20,
      "outputs": [
        {
          "output_type": "display_data",
          "data": {
            "image/png": "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\n",
            "text/plain": [
              "<Figure size 432x288 with 1 Axes>"
            ]
          },
          "metadata": {
            "tags": [],
            "needs_background": "light"
          }
        }
      ]
    },
    {
      "cell_type": "markdown",
      "metadata": {
        "colab_type": "text",
        "id": "1trD2wX0uBmU"
      },
      
      ]
    }
  ]
}
