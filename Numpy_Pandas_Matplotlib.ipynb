{
  "nbformat": 4,
  "nbformat_minor": 0,
  "metadata": {
    "colab": {
      "name": "Numpy Pandas Matplotlib.ipynb",
      "provenance": [],
      "collapsed_sections": [],
      "toc_visible": true,
      "include_colab_link": true
    },
    "kernelspec": {
      "display_name": "Python 2",
      "language": "python",
      "name": "python2"
    },
    "language_info": {
      "codemirror_mode": {
        "name": "ipython",
        "version": 3
      },
      "file_extension": ".py",
      "mimetype": "text/x-python",
      "name": "python",
      "nbconvert_exporter": "python",
      "pygments_lexer": "ipython3",
      "version": "3.7.3"
    }
  },
  "cells": [
    {
      "cell_type": "markdown",
      "metadata": {
        "id": "view-in-github",
        "colab_type": "text"
      },
      "source": [
        "<a href=\"https://colab.research.google.com/github/arpitgothi/Machine-learning/blob/master/Numpy_Pandas_Matplotlib.ipynb\" target=\"_parent\"><img src=\"https://colab.research.google.com/assets/colab-badge.svg\" alt=\"Open In Colab\"/></a>"
      ]
    },
    {
      "cell_type": "markdown",
      "metadata": {
        "colab_type": "text",
        "id": "QkIIdx_bATlQ"
      },
      "source": [
        "# NUMPY PANDAS MATPLOTLIB"
      ]
    },
    {
      "cell_type": "markdown",
      "metadata": {
        "colab_type": "text",
        "id": "1TBhy8O7AYFP"
      },
      "source": [
        "**Numpy**\n",
        "\n",
        "-\tCreating blank array, with predefined data, with pattern specific data\n",
        "-\tSlicing and Updating elements,\n",
        "-\tShape manipulations\n",
        "-\tLooping over arrays.\n",
        "-\tReading files in numpy\n",
        "\n",
        "**Pandas**\n",
        "-\tCreating data frame\n",
        "-\tReading files\n",
        "-\tSlicing manipulations\n",
        "-\tExporting data to files\n",
        "-\tColumns and row manipulations with loops\n",
        "\n",
        "**Matplotlib**\n",
        "-\tImporting matplotlib\n",
        "-\tSimple line chart\n",
        "-\tHistogram\n",
        "\n",
        "\n",
        "\n",
        "\n",
        "#**THEORY:**\n",
        "\n",
        "**NumPy:**\n",
        "\n",
        "NumPy’s main object is the homogeneous multidimensional array.\n",
        "It is a table of elements (usually numbers), all of the same type, indexed by a tuple of positive integers.\n",
        " \n",
        "Example of array creation: import numpy as np\n",
        "arr = np.array( [[ 1, 2, 3],\n",
        "[ 4, 2, 5]] )\n",
        "Array Slicing: a[start:stop:step]\n",
        "Shape Manipulation: numpy.reshape(a, newshape)\n",
        "Example:\n",
        "x = np.array([[2,3,4], [5,6,7]])\n",
        "np.reshape(x, (3, 2))\n",
        "array([[2, 3],\n",
        "[4, 5],\n",
        "[6, 7]])\n",
        "Reading Files in numPy:\n",
        "numpy.load() in Python is used load data from a text file.(.txt,.csv)\n",
        "\n",
        "\n",
        "\n",
        "**Pandas:**\n",
        "\n",
        "Creating DataFrame:\n",
        "Creating Pandas DataFrame from lists of lists. Creating DataFrame from dict of narray/lists Creates a indexes DataFrame using arrays.\n",
        "Reading files:\n",
        "data = pd.read_csv(\"filename.csv\")\n",
        "Slice manipulation: str.slice(start, stop, step) Export to CSV File:\n",
        " \n",
        "df.to_csv(r'Path where you want to store the exported CSV file\\File Name.csv')\n",
        "\n",
        "\n",
        "\n",
        "**Matplotlib:** \n",
        "\n",
        " Installing Matplotlib:\n",
        "python -m pip install -U matplotlib\n",
        "Import Matplotlib:\n",
        "import matplotlib.pyplot as plt\n",
        "Simple line chart:\n",
        "In Matplotlib we can create a line chart by calling the plot method. We can also plot multiple columns in one graph, by looping through the columns we want and plotting each column on the same axis.\n",
        "\n",
        "\n",
        "\n",
        " \n",
        " \n",
        "**Histogram:**\n",
        "\n",
        "In Matplotlib we can create a Histogram using the hist method. If we pass it categorical data like the points column from the wine-review dataset it will automatically calculate how often each class occurs.\n",
        "\n"
      ]
    },
    {
      "cell_type": "markdown",
      "metadata": {
        "colab_type": "text",
        "id": "QnXLoXRTATlR"
      },
      "source": [
        "**Starting with Numpy**"
      ]
    },
    {
      "cell_type": "code",
      "metadata": {
        "colab_type": "code",
        "id": "3FycpaUbATlS",
        "colab": {}
      },
      "source": [
        "import numpy as np"
      ],
      "execution_count": 0,
      "outputs": []
    },
    {
      "cell_type": "markdown",
      "metadata": {
        "colab_type": "text",
        "id": "91tzc4OrATlV"
      },
      "source": [
        "List Comprehension"
      ]
    },
    {
      "cell_type": "code",
      "metadata": {
        "colab_type": "code",
        "id": "Ex2zJXE_ATlV",
        "outputId": "a053492c-2eb0-45f5-da29-a9d06bfbf599",
        "colab": {
          "base_uri": "https://localhost:8080/",
          "height": 34
        }
      },
      "source": [
        "L = list(range(10))\n",
        "[str(c) for c in L]"
      ],
      "execution_count": 0,
      "outputs": [
        {
          "output_type": "execute_result",
          "data": {
            "text/plain": [
              "['0', '1', '2', '3', '4', '5', '6', '7', '8', '9']"
            ]
          },
          "metadata": {
            "tags": []
          },
          "execution_count": 2
        }
      ]
    },
    {
      "cell_type": "markdown",
      "metadata": {
        "colab_type": "text",
        "id": "TqtH-4h9ATlZ"
      },
      "source": [
        "**Creating Arrays**"
      ]
    },
    {
      "cell_type": "code",
      "metadata": {
        "colab_type": "code",
        "id": "Ci5ULLnrATlZ",
        "outputId": "6581e9b2-3657-427d-8444-5dedad8b4f38",
        "colab": {
          "base_uri": "https://localhost:8080/",
          "height": 34
        }
      },
      "source": [
        "#creating arrays\n",
        "np.zeros(10, dtype='int')"
      ],
      "execution_count": 0,
      "outputs": [
        {
          "output_type": "execute_result",
          "data": {
            "text/plain": [
              "array([0, 0, 0, 0, 0, 0, 0, 0, 0, 0])"
            ]
          },
          "metadata": {
            "tags": []
          },
          "execution_count": 3
        }
      ]
    },
    {
      "cell_type": "code",
      "metadata": {
        "colab_type": "code",
        "id": "7cxniBGpATlc",
        "outputId": "ba45ee60-0d78-48ab-ce21-fb6fd1fd3fef",
        "colab": {
          "base_uri": "https://localhost:8080/",
          "height": 70
        }
      },
      "source": [
        "#creating a 3 row x 5 column matrix\n",
        "np.ones((3,5), dtype=float)"
      ],
      "execution_count": 0,
      "outputs": [
        {
          "output_type": "execute_result",
          "data": {
            "text/plain": [
              "array([[1., 1., 1., 1., 1.],\n",
              "       [1., 1., 1., 1., 1.],\n",
              "       [1., 1., 1., 1., 1.]])"
            ]
          },
          "metadata": {
            "tags": []
          },
          "execution_count": 4
        }
      ]
    },
    {
      "cell_type": "code",
      "metadata": {
        "colab_type": "code",
        "id": "2ZgS7IZIATle",
        "outputId": "603932c9-168a-481a-bdc8-d3788158086d",
        "colab": {
          "base_uri": "https://localhost:8080/",
          "height": 70
        }
      },
      "source": [
        "\n",
        "#creating a matrix with a predefined value\n",
        "np.full((3,5),1.23)\n"
      ],
      "execution_count": 0,
      "outputs": [
        {
          "output_type": "execute_result",
          "data": {
            "text/plain": [
              "array([[1.23, 1.23, 1.23, 1.23, 1.23],\n",
              "       [1.23, 1.23, 1.23, 1.23, 1.23],\n",
              "       [1.23, 1.23, 1.23, 1.23, 1.23]])"
            ]
          },
          "metadata": {
            "tags": []
          },
          "execution_count": 5
        }
      ]
    },
    {
      "cell_type": "code",
      "metadata": {
        "colab_type": "code",
        "id": "vlea9SzXATlh",
        "outputId": "31b8b596-e6b0-4d28-8ca4-d756473bab31",
        "colab": {
          "base_uri": "https://localhost:8080/",
          "height": 34
        }
      },
      "source": [
        "#create an array with a set sequence\n",
        "np.arange(0, 20, 2)"
      ],
      "execution_count": 0,
      "outputs": [
        {
          "output_type": "execute_result",
          "data": {
            "text/plain": [
              "array([ 0,  2,  4,  6,  8, 10, 12, 14, 16, 18])"
            ]
          },
          "metadata": {
            "tags": []
          },
          "execution_count": 6
        }
      ]
    },
    {
      "cell_type": "code",
      "metadata": {
        "colab_type": "code",
        "id": "GqZHuyEaATlj",
        "outputId": "e7be6084-488b-4494-c03d-3bf278325cff",
        "colab": {
          "base_uri": "https://localhost:8080/",
          "height": 34
        }
      },
      "source": [
        "#create an array of even space between the given range of values\n",
        "np.linspace(0, 1, 5)\n"
      ],
      "execution_count": 0,
      "outputs": [
        {
          "output_type": "execute_result",
          "data": {
            "text/plain": [
              "array([0.  , 0.25, 0.5 , 0.75, 1.  ])"
            ]
          },
          "metadata": {
            "tags": []
          },
          "execution_count": 7
        }
      ]
    },
    {
      "cell_type": "code",
      "metadata": {
        "colab_type": "code",
        "id": "SloA62gQATll",
        "outputId": "6d116e5c-d52e-419a-e58e-53a0340e1497",
        "colab": {
          "base_uri": "https://localhost:8080/",
          "height": 70
        }
      },
      "source": [
        "#create a 3x3 array with mean 0 and standard deviation 1 in a given dimension\n",
        "np.random.normal(0, 1, (3,3))"
      ],
      "execution_count": 0,
      "outputs": [
        {
          "output_type": "execute_result",
          "data": {
            "text/plain": [
              "array([[ 0.68042325,  0.74915834,  1.43433826],\n",
              "       [-0.47359341,  2.19631855,  2.57734463],\n",
              "       [-0.02723564, -0.04239267,  1.22169939]])"
            ]
          },
          "metadata": {
            "tags": []
          },
          "execution_count": 8
        }
      ]
    },
    {
      "cell_type": "markdown",
      "metadata": {
        "colab_type": "text",
        "id": "0gpdncD1ATln"
      },
      "source": [
        "**Array Slicing**"
      ]
    },
    {
      "cell_type": "code",
      "metadata": {
        "colab_type": "code",
        "id": "JUKe9DyAATlo",
        "outputId": "3344749b-9311-4518-8599-a18fac75644b",
        "colab": {
          "base_uri": "https://localhost:8080/",
          "height": 34
        }
      },
      "source": [
        "x = np.arange(10)\n",
        "x"
      ],
      "execution_count": 0,
      "outputs": [
        {
          "output_type": "execute_result",
          "data": {
            "text/plain": [
              "array([0, 1, 2, 3, 4, 5, 6, 7, 8, 9])"
            ]
          },
          "metadata": {
            "tags": []
          },
          "execution_count": 9
        }
      ]
    },
    {
      "cell_type": "code",
      "metadata": {
        "colab_type": "code",
        "id": "YgcqrwRhATlq",
        "outputId": "d14222f9-6324-46c1-bdd4-c0013ea057c5",
        "colab": {
          "base_uri": "https://localhost:8080/",
          "height": 34
        }
      },
      "source": [
        "#from start to 4th position\n",
        "x[:5]"
      ],
      "execution_count": 0,
      "outputs": [
        {
          "output_type": "execute_result",
          "data": {
            "text/plain": [
              "array([0, 1, 2, 3, 4])"
            ]
          },
          "metadata": {
            "tags": []
          },
          "execution_count": 10
        }
      ]
    },
    {
      "cell_type": "code",
      "metadata": {
        "colab_type": "code",
        "id": "LdGe8YdYATls",
        "outputId": "355acc1f-f2f7-4196-887a-6d0b5cfa7bfc",
        "colab": {
          "base_uri": "https://localhost:8080/",
          "height": 34
        }
      },
      "source": [
        "#from 4th to 6th position\n",
        "x[4:7]"
      ],
      "execution_count": 0,
      "outputs": [
        {
          "output_type": "execute_result",
          "data": {
            "text/plain": [
              "array([4, 5, 6])"
            ]
          },
          "metadata": {
            "tags": []
          },
          "execution_count": 11
        }
      ]
    },
    {
      "cell_type": "code",
      "metadata": {
        "colab_type": "code",
        "id": "nuWcChTIATlv",
        "outputId": "070287cc-e0bf-42d8-c673-40ef969ae37e",
        "colab": {
          "base_uri": "https://localhost:8080/",
          "height": 34
        }
      },
      "source": [
        "#return elements at even place\n",
        "x[ : : 2]"
      ],
      "execution_count": 0,
      "outputs": [
        {
          "output_type": "execute_result",
          "data": {
            "text/plain": [
              "array([0, 2, 4, 6, 8])"
            ]
          },
          "metadata": {
            "tags": []
          },
          "execution_count": 12
        }
      ]
    },
    {
      "cell_type": "markdown",
      "metadata": {
        "colab_type": "text",
        "id": "A0-l7UMKATlx"
      },
      "source": [
        "**Starting With Pandas**"
      ]
    },
    {
      "cell_type": "code",
      "metadata": {
        "colab_type": "code",
        "id": "qo2-WAohATlx",
        "colab": {}
      },
      "source": [
        "import pandas as pd"
      ],
      "execution_count": 0,
      "outputs": []
    },
    {
      "cell_type": "code",
      "metadata": {
        "colab_type": "code",
        "id": "6-TOIg_6ATlz",
        "colab": {}
      },
      "source": [
        "data=pd.read_csv(\"/content/insurance.csv\")"
      ],
      "execution_count": 0,
      "outputs": []
    },
    {
      "cell_type": "code",
      "metadata": {
        "colab_type": "code",
        "id": "gqzsFAhzATl0",
        "outputId": "6daf6160-d08d-4cbb-cab8-e651a7f1cff5",
        "colab": {
          "base_uri": "https://localhost:8080/",
          "height": 175
        }
      },
      "source": [
        "data.info()"
      ],
      "execution_count": 0,
      "outputs": [
        {
          "output_type": "stream",
          "text": [
            "<class 'pandas.core.frame.DataFrame'>\n",
            "RangeIndex: 63 entries, 0 to 62\n",
            "Data columns (total 2 columns):\n",
            " #   Column                                                           Non-Null Count  Dtype  \n",
            "---  ------                                                           --------------  -----  \n",
            " 0   number of claims                                                 63 non-null     int64  \n",
            " 1   total payment for all the claims in thousands of Swedish Kronor  63 non-null     float64\n",
            "dtypes: float64(1), int64(1)\n",
            "memory usage: 1.1 KB\n"
          ],
          "name": "stdout"
        }
      ]
    },
    {
      "cell_type": "code",
      "metadata": {
        "colab_type": "code",
        "id": "e0uasouZATl3",
        "outputId": "6f9673cc-0ae0-4f28-eb4c-e92cb704a663",
        "colab": {
          "base_uri": "https://localhost:8080/",
          "height": 195
        }
      },
      "source": [
        "data.head()"
      ],
      "execution_count": 0,
      "outputs": [
        {
          "output_type": "execute_result",
          "data": {
            "text/html": [
              "<div>\n",
              "<style scoped>\n",
              "    .dataframe tbody tr th:only-of-type {\n",
              "        vertical-align: middle;\n",
              "    }\n",
              "\n",
              "    .dataframe tbody tr th {\n",
              "        vertical-align: top;\n",
              "    }\n",
              "\n",
              "    .dataframe thead th {\n",
              "        text-align: right;\n",
              "    }\n",
              "</style>\n",
              "<table border=\"1\" class=\"dataframe\">\n",
              "  <thead>\n",
              "    <tr style=\"text-align: right;\">\n",
              "      <th></th>\n",
              "      <th>number of claims</th>\n",
              "      <th>total payment for all the claims in thousands of Swedish Kronor</th>\n",
              "    </tr>\n",
              "  </thead>\n",
              "  <tbody>\n",
              "    <tr>\n",
              "      <th>0</th>\n",
              "      <td>108</td>\n",
              "      <td>392.5</td>\n",
              "    </tr>\n",
              "    <tr>\n",
              "      <th>1</th>\n",
              "      <td>19</td>\n",
              "      <td>46.2</td>\n",
              "    </tr>\n",
              "    <tr>\n",
              "      <th>2</th>\n",
              "      <td>13</td>\n",
              "      <td>15.7</td>\n",
              "    </tr>\n",
              "    <tr>\n",
              "      <th>3</th>\n",
              "      <td>124</td>\n",
              "      <td>422.2</td>\n",
              "    </tr>\n",
              "    <tr>\n",
              "      <th>4</th>\n",
              "      <td>40</td>\n",
              "      <td>119.4</td>\n",
              "    </tr>\n",
              "  </tbody>\n",
              "</table>\n",
              "</div>"
            ],
            "text/plain": [
              "   number of claims  total payment for all the claims in thousands of Swedish Kronor\n",
              "0               108                                              392.5              \n",
              "1                19                                               46.2              \n",
              "2                13                                               15.7              \n",
              "3               124                                              422.2              \n",
              "4                40                                              119.4              "
            ]
          },
          "metadata": {
            "tags": []
          },
          "execution_count": 16
        }
      ]
    },
    {
      "cell_type": "code",
      "metadata": {
        "colab_type": "code",
        "id": "Zi2uwv8TATl5",
        "colab": {}
      },
      "source": [
        "from sklearn import preprocessing\n",
        "\n",
        "for x in data.columns:\n",
        "    if data[x].dtype == 'object':\n",
        "        lbl = preprocessing.LabelEncoder()\n",
        "        lbl.fit(list(data[x].values))\n",
        "        data[x] = lbl.transform(list(data[x].values))"
      ],
      "execution_count": 0,
      "outputs": []
    },
    {
      "cell_type": "markdown",
      "metadata": {
        "colab_type": "text",
        "id": "uWZ5YJbGATl7"
      },
      "source": [
        "**Starting with matplotlib**"
      ]
    },
    {
      "cell_type": "code",
      "metadata": {
        "colab_type": "code",
        "id": "H8nlD_E8ATl7",
        "colab": {}
      },
      "source": [
        "import matplotlib.pyplot as plt"
      ],
      "execution_count": 0,
      "outputs": []
    },
    {
      "cell_type": "code",
      "metadata": {
        "colab_type": "code",
        "id": "auYoce4XATl9",
        "outputId": "de1c619e-67ec-4396-cf60-f8078834e966",
        "colab": {
          "base_uri": "https://localhost:8080/",
          "height": 265
        }
      },
      "source": [
        "plt.hist(data['number of claims'],facecolor='peru',edgecolor=\"blue\")\n",
        "plt.show()"
      ],
      "execution_count": 0,
      "outputs": [
        {
          "output_type": "display_data",
          "data": {
            "image/png": "[encoded data removed]",
            "text/plain": [
              "<Figure size 432x288 with 1 Axes>"
            ]
          },
          "metadata": {
            "tags": [],
            "needs_background": "light"
          }
        }
      ]
    },
    {
      "cell_type": "code",
      "metadata": {
        "colab_type": "code",
        "id": "t-cJSKQ1ATmA",
        "outputId": "ceaf231b-b8e1-4495-df31-0da1d60b205c",
        "colab": {
          "base_uri": "https://localhost:8080/",
          "height": 335
        }
      },
      "source": [
        "plt.hist(data['total payment for all the claims in thousands of Swedish Kronor'],facecolor='peru',edgecolor=\"blue\")"
      ],
      "execution_count": 0,
      "outputs": [
        {
          "output_type": "execute_result",
          "data": {
            "text/plain": [
              "(array([19., 16.,  9.,  7.,  6.,  4.,  0.,  0.,  0.,  2.]),\n",
              " array([  0.  ,  42.22,  84.44, 126.66, 168.88, 211.1 , 253.32, 295.54,\n",
              "        337.76, 379.98, 422.2 ]),\n",
              " <a list of 10 Patch objects>)"
            ]
          },
          "metadata": {
            "tags": []
          },
          "execution_count": 20
        },
        {
          "output_type": "display_data",
          "data": {
            "image/png": "[encoded data removed]",
            "text/plain": [
              "<Figure size 432x288 with 1 Axes>"
            ]
          },
          "metadata": {
            "tags": [],
            "needs_background": "light"
          }
        }
      ]
    },
    {
      "cell_type": "code",
      "metadata": {
        "colab_type": "code",
        "id": "RFpC9HVqATmC",
        "outputId": "b2ee24c5-1eb4-49b0-dccb-4604fc93bacd",
        "colab": {
          "base_uri": "https://localhost:8080/",
          "height": 282
        }
      },
      "source": [
        "plt.plot(data['total payment for all the claims in thousands of Kronor'])"
      ],
      "execution_count": 0,
      "outputs": [
        {
          "output_type": "execute_result",
          "data": {
            "text/plain": [
              "[<matplotlib.lines.Line2D at 0x7f7d2aa12400>]"
            ]
          },
          "metadata": {
            "tags": []
          },
          "execution_count": 21
        },
        {
          "output_type": "display_data",
          "data": {
            "image/png": "[encoded data removed]",
            "text/plain": [
              "<Figure size 432x288 with 1 Axes>"
            ]
          },
          "metadata": {
            "tags": [],
            "needs_background": "light"
          }
        }
      ]
    }
  ]
}