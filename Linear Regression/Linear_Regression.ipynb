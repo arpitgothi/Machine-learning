{
  "nbformat": 4,
  "nbformat_minor": 0,
  "metadata": {
    "colab": {
      "name": "Linear Regression.ipynb",
      "provenance": [],
      "collapsed_sections": [],
      "toc_visible": true,
      "include_colab_link": true
    },
    "kernelspec": {
      "name": "python3",
      "display_name": "Python 3"
    }
  },
  "cells": [
    {
      "cell_type": "markdown",
      "metadata": {
        "id": "view-in-github",
        "colab_type": "text"
      },
      "source": [
        "<a href=\"https://colab.research.google.com/github/arpitgothi/Machine-learning/blob/master/Linear%20Regression/Linear_Regression.ipynb\" target=\"_parent\"><img src=\"https://colab.research.google.com/assets/colab-badge.svg\" alt=\"Open In Colab\"/></a>"
      ]
    },
    {
      "cell_type": "markdown",
      "metadata": {
        "id": "906VrnTs5PNY",
        "colab_type": "text"
      },
      "source": [
        "#Linear Regression\n",
        "\n",
        "**Q1: Why you want to apply regression on selected dataset? Discuss full story behind dataset.**\n",
        "Ans:The Swedish Auto Insurance data set contains two columns (X,Y) as shown in code below. \n",
        "\n",
        "The X column represents the number of claims and the Y represents the total payment amount in Swedish Kronor.\n",
        "\n",
        "As dependent variable is continuous data regression is suitable model to use here.\n",
        "\n",
        "Also, it is expected that as the number of claims increases, total claim amount will also increase.This is indicating application of linear regression.\n",
        "\n",
        "Using Simple Linear Regression it is possible to identify the relation between the number of claims and the total payment. This relation can be stored and used for, to predict the total payment for a new number of claims.\n",
        "\n",
        "**Q2: How many total observations in data?**\n",
        "Ans: 63 Observation\n",
        "\n",
        "**Q3: How many independent variables?**\n",
        "Ans: There are 2 columns out of that X is independent variable which indicates total number of claims.\n",
        "\n",
        "**Q4: Which is dependent variable?**\n",
        "Ans: Y is dependent variable which is indicating total amount of claims in observation.\n",
        "\n",
        "**Q5: Which are most useful variable in estimation? Prove using correlation.**\n",
        "Ans: Here, data has only one independent variable which has linear correlation with independent variable. This can be visulized using Scatter plot below.\n",
        "\n",
        "If there are more than one independent variable, not all independent variables contributes equally in estimation of dependent variable. This can be quatified using correlation between dependent and independent variable.\n",
        "\n",
        "corr function is sklearn can be used to find correlation between variables. We can find correlation of each independent variable with dependent vatiable using loop, store them in a list/dataframe, sort them and finally decide which varible to use in delveloping model.\n",
        "\n",
        "**Q6: Quantify goodness of your model and discuss steps taken for improvement (RMSE, SSE, R2Score).**\n",
        "\n",
        "Ans: In sklearn mean_squared_error function can be used to find RMSE, SSE\n",
        "\n",
        "RMSE = square root of (mean_squared_error)\n",
        "\n",
        "SSE = mean_squared_error * total Number of observations\n",
        "\n",
        "r2_score= R-SquaredError\n",
        "\n"
      ]
    },
    {
      "cell_type": "code",
      "metadata": {
        "colab_type": "code",
        "id": "X2nIrJOYRVbb",
        "colab": {}
      },
      "source": [
        "import pandas as pd  \n",
        "import numpy as np  \n",
        "import matplotlib.pyplot as plt  \n",
        "import seaborn as seabornInstance \n",
        "from sklearn.model_selection import train_test_split \n",
        "from sklearn.linear_model import LinearRegression\n",
        "from sklearn import metrics\n",
        "%matplotlib inline"
      ],
      "execution_count": 0,
      "outputs": []
    },
    {
      "cell_type": "code",
      "metadata": {
        "colab_type": "code",
        "id": "U_SVAJa9RcS_",
        "outputId": "2d443b01-cfa4-4b2a-e8f2-b46ffaac1566",
        "colab": {
          "base_uri": "https://localhost:8080/",
          "height": 158
        }
      },
      "source": [
        "from google.colab import files\n",
        "#uploaded = files.upload()\n",
        "dataset = pd.read_excel('Data1.xlsx')\n",
        "\n",
        "# Lets display the top 5 records in the Dataset\n",
        "print (dataset.head())"
      ],
      "execution_count": 17,
      "outputs": [
        {
          "output_type": "stream",
          "text": [
            "                  Formatted Date  ...                      Daily Summary\n",
            "0  2006-04-01 00:00:00.000 +0200  ...  Partly cloudy throughout the day.\n",
            "1  2006-04-01 01:00:00.000 +0200  ...  Partly cloudy throughout the day.\n",
            "2  2006-04-01 02:00:00.000 +0200  ...  Partly cloudy throughout the day.\n",
            "3  2006-04-01 03:00:00.000 +0200  ...  Partly cloudy throughout the day.\n",
            "4  2006-04-01 04:00:00.000 +0200  ...  Partly cloudy throughout the day.\n",
            "\n",
            "[5 rows x 12 columns]\n"
          ],
          "name": "stdout"
        }
      ]
    },
    {
      "cell_type": "code",
      "metadata": {
        "colab_type": "code",
        "id": "3e-nVQ3EUOwX",
        "outputId": "25ddf6b8-07e5-46e0-855c-e6c16c9c2622",
        "colab": {
          "base_uri": "https://localhost:8080/",
          "height": 34
        }
      },
      "source": [
        "dataset.shape"
      ],
      "execution_count": 18,
      "outputs": [
        {
          "output_type": "execute_result",
          "data": {
            "text/plain": [
              "(1699, 12)"
            ]
          },
          "metadata": {
            "tags": []
          },
          "execution_count": 18
        }
      ]
    },
    {
      "cell_type": "code",
      "metadata": {
        "colab_type": "code",
        "id": "uCtNKAKSUQol",
        "outputId": "a3531186-7682-460f-a3a3-7575b0269599",
        "colab": {
          "base_uri": "https://localhost:8080/",
          "height": 301
        }
      },
      "source": [
        "dataset.describe()"
      ],
      "execution_count": 19,
      "outputs": [
        {
          "output_type": "execute_result",
          "data": {
            "text/html": [
              "<div>\n",
              "<style scoped>\n",
              "    .dataframe tbody tr th:only-of-type {\n",
              "        vertical-align: middle;\n",
              "    }\n",
              "\n",
              "    .dataframe tbody tr th {\n",
              "        vertical-align: top;\n",
              "    }\n",
              "\n",
              "    .dataframe thead th {\n",
              "        text-align: right;\n",
              "    }\n",
              "</style>\n",
              "<table border=\"1\" class=\"dataframe\">\n",
              "  <thead>\n",
              "    <tr style=\"text-align: right;\">\n",
              "      <th></th>\n",
              "      <th>Temperature (C)</th>\n",
              "      <th>Apparent Temperature (C)</th>\n",
              "      <th>Humidity</th>\n",
              "      <th>Wind Speed (km/h)</th>\n",
              "      <th>Wind Bearing (degrees)</th>\n",
              "      <th>Visibility (km)</th>\n",
              "      <th>Loud Cover</th>\n",
              "      <th>Pressure (millibars)</th>\n",
              "    </tr>\n",
              "  </thead>\n",
              "  <tbody>\n",
              "    <tr>\n",
              "      <th>count</th>\n",
              "      <td>1699.000000</td>\n",
              "      <td>1699.000000</td>\n",
              "      <td>1699.000000</td>\n",
              "      <td>1699.000000</td>\n",
              "      <td>1699.000000</td>\n",
              "      <td>1699.000000</td>\n",
              "      <td>1699.0</td>\n",
              "      <td>1699.000000</td>\n",
              "    </tr>\n",
              "    <tr>\n",
              "      <th>mean</th>\n",
              "      <td>14.102227</td>\n",
              "      <td>13.633729</td>\n",
              "      <td>0.774856</td>\n",
              "      <td>9.916975</td>\n",
              "      <td>205.194232</td>\n",
              "      <td>9.948398</td>\n",
              "      <td>0.0</td>\n",
              "      <td>981.596645</td>\n",
              "    </tr>\n",
              "    <tr>\n",
              "      <th>std</th>\n",
              "      <td>7.502892</td>\n",
              "      <td>8.264352</td>\n",
              "      <td>0.176691</td>\n",
              "      <td>6.139003</td>\n",
              "      <td>93.729782</td>\n",
              "      <td>4.302038</td>\n",
              "      <td>0.0</td>\n",
              "      <td>181.436713</td>\n",
              "    </tr>\n",
              "    <tr>\n",
              "      <th>min</th>\n",
              "      <td>-2.244444</td>\n",
              "      <td>-5.927778</td>\n",
              "      <td>0.320000</td>\n",
              "      <td>0.000000</td>\n",
              "      <td>0.000000</td>\n",
              "      <td>0.000000</td>\n",
              "      <td>0.0</td>\n",
              "      <td>0.000000</td>\n",
              "    </tr>\n",
              "    <tr>\n",
              "      <th>25%</th>\n",
              "      <td>9.441667</td>\n",
              "      <td>8.697222</td>\n",
              "      <td>0.650000</td>\n",
              "      <td>4.926600</td>\n",
              "      <td>145.000000</td>\n",
              "      <td>9.877350</td>\n",
              "      <td>0.0</td>\n",
              "      <td>1009.560000</td>\n",
              "    </tr>\n",
              "    <tr>\n",
              "      <th>50%</th>\n",
              "      <td>15.000000</td>\n",
              "      <td>15.000000</td>\n",
              "      <td>0.820000</td>\n",
              "      <td>9.354100</td>\n",
              "      <td>209.000000</td>\n",
              "      <td>10.481100</td>\n",
              "      <td>0.0</td>\n",
              "      <td>1013.210000</td>\n",
              "    </tr>\n",
              "    <tr>\n",
              "      <th>75%</th>\n",
              "      <td>18.969444</td>\n",
              "      <td>18.969444</td>\n",
              "      <td>0.930000</td>\n",
              "      <td>13.564250</td>\n",
              "      <td>289.000000</td>\n",
              "      <td>11.447100</td>\n",
              "      <td>0.0</td>\n",
              "      <td>1016.915000</td>\n",
              "    </tr>\n",
              "    <tr>\n",
              "      <th>max</th>\n",
              "      <td>32.638889</td>\n",
              "      <td>35.494444</td>\n",
              "      <td>1.000000</td>\n",
              "      <td>36.386000</td>\n",
              "      <td>359.000000</td>\n",
              "      <td>16.100000</td>\n",
              "      <td>0.0</td>\n",
              "      <td>1038.060000</td>\n",
              "    </tr>\n",
              "  </tbody>\n",
              "</table>\n",
              "</div>"
            ],
            "text/plain": [
              "       Temperature (C)  ...  Pressure (millibars)\n",
              "count      1699.000000  ...           1699.000000\n",
              "mean         14.102227  ...            981.596645\n",
              "std           7.502892  ...            181.436713\n",
              "min          -2.244444  ...              0.000000\n",
              "25%           9.441667  ...           1009.560000\n",
              "50%          15.000000  ...           1013.210000\n",
              "75%          18.969444  ...           1016.915000\n",
              "max          32.638889  ...           1038.060000\n",
              "\n",
              "[8 rows x 8 columns]"
            ]
          },
          "metadata": {
            "tags": []
          },
          "execution_count": 19
        }
      ]
    },
    {
      "cell_type": "code",
      "metadata": {
        "colab_type": "code",
        "id": "-tyfLf00UTC1",
        "outputId": "b5fc234b-975e-4b5f-f6e0-ff21329df2d7",
        "colab": {
          "base_uri": "https://localhost:8080/",
          "height": 613
        }
      },
      "source": [
        "dataset.plot(x='Temperature (C)', y='Humidity', style='p')  \n",
        "plt.title('AT vs PE')  \n",
        "plt.xlabel('TEMPRATURE')  \n",
        "plt.ylabel('ELECTRRICAL ENERGY')  \n",
        "plt.show()\n",
        "dataset.corr()"
      ],
      "execution_count": 20,
      "outputs": [
        {
          "output_type": "display_data",
          "data": {
            "image/png": "[encoded data removed]",
            "text/plain": [
              "<Figure size 432x288 with 1 Axes>"
            ]
          },
          "metadata": {
            "tags": [],
            "needs_background": "light"
          }
        },
        {
          "output_type": "execute_result",
          "data": {
            "text/html": [
              "<div>\n",
              "<style scoped>\n",
              "    .dataframe tbody tr th:only-of-type {\n",
              "        vertical-align: middle;\n",
              "    }\n",
              "\n",
              "    .dataframe tbody tr th {\n",
              "        vertical-align: top;\n",
              "    }\n",
              "\n",
              "    .dataframe thead th {\n",
              "        text-align: right;\n",
              "    }\n",
              "</style>\n",
              "<table border=\"1\" class=\"dataframe\">\n",
              "  <thead>\n",
              "    <tr style=\"text-align: right;\">\n",
              "      <th></th>\n",
              "      <th>Temperature (C)</th>\n",
              "      <th>Apparent Temperature (C)</th>\n",
              "      <th>Humidity</th>\n",
              "      <th>Wind Speed (km/h)</th>\n",
              "      <th>Wind Bearing (degrees)</th>\n",
              "      <th>Visibility (km)</th>\n",
              "      <th>Loud Cover</th>\n",
              "      <th>Pressure (millibars)</th>\n",
              "    </tr>\n",
              "  </thead>\n",
              "  <tbody>\n",
              "    <tr>\n",
              "      <th>Temperature (C)</th>\n",
              "      <td>1.000000</td>\n",
              "      <td>0.994014</td>\n",
              "      <td>-0.660898</td>\n",
              "      <td>0.111451</td>\n",
              "      <td>0.121980</td>\n",
              "      <td>0.517256</td>\n",
              "      <td>NaN</td>\n",
              "      <td>-0.104056</td>\n",
              "    </tr>\n",
              "    <tr>\n",
              "      <th>Apparent Temperature (C)</th>\n",
              "      <td>0.994014</td>\n",
              "      <td>1.000000</td>\n",
              "      <td>-0.647576</td>\n",
              "      <td>0.063696</td>\n",
              "      <td>0.107774</td>\n",
              "      <td>0.520439</td>\n",
              "      <td>NaN</td>\n",
              "      <td>-0.107550</td>\n",
              "    </tr>\n",
              "    <tr>\n",
              "      <th>Humidity</th>\n",
              "      <td>-0.660898</td>\n",
              "      <td>-0.647576</td>\n",
              "      <td>1.000000</td>\n",
              "      <td>-0.325614</td>\n",
              "      <td>-0.011585</td>\n",
              "      <td>-0.359557</td>\n",
              "      <td>NaN</td>\n",
              "      <td>0.036141</td>\n",
              "    </tr>\n",
              "    <tr>\n",
              "      <th>Wind Speed (km/h)</th>\n",
              "      <td>0.111451</td>\n",
              "      <td>0.063696</td>\n",
              "      <td>-0.325614</td>\n",
              "      <td>1.000000</td>\n",
              "      <td>0.155464</td>\n",
              "      <td>0.107593</td>\n",
              "      <td>NaN</td>\n",
              "      <td>-0.051436</td>\n",
              "    </tr>\n",
              "    <tr>\n",
              "      <th>Wind Bearing (degrees)</th>\n",
              "      <td>0.121980</td>\n",
              "      <td>0.107774</td>\n",
              "      <td>-0.011585</td>\n",
              "      <td>0.155464</td>\n",
              "      <td>1.000000</td>\n",
              "      <td>0.133587</td>\n",
              "      <td>NaN</td>\n",
              "      <td>-0.081545</td>\n",
              "    </tr>\n",
              "    <tr>\n",
              "      <th>Visibility (km)</th>\n",
              "      <td>0.517256</td>\n",
              "      <td>0.520439</td>\n",
              "      <td>-0.359557</td>\n",
              "      <td>0.107593</td>\n",
              "      <td>0.133587</td>\n",
              "      <td>1.000000</td>\n",
              "      <td>NaN</td>\n",
              "      <td>-0.034452</td>\n",
              "    </tr>\n",
              "    <tr>\n",
              "      <th>Loud Cover</th>\n",
              "      <td>NaN</td>\n",
              "      <td>NaN</td>\n",
              "      <td>NaN</td>\n",
              "      <td>NaN</td>\n",
              "      <td>NaN</td>\n",
              "      <td>NaN</td>\n",
              "      <td>NaN</td>\n",
              "      <td>NaN</td>\n",
              "    </tr>\n",
              "    <tr>\n",
              "      <th>Pressure (millibars)</th>\n",
              "      <td>-0.104056</td>\n",
              "      <td>-0.107550</td>\n",
              "      <td>0.036141</td>\n",
              "      <td>-0.051436</td>\n",
              "      <td>-0.081545</td>\n",
              "      <td>-0.034452</td>\n",
              "      <td>NaN</td>\n",
              "      <td>1.000000</td>\n",
              "    </tr>\n",
              "  </tbody>\n",
              "</table>\n",
              "</div>"
            ],
            "text/plain": [
              "                          Temperature (C)  ...  Pressure (millibars)\n",
              "Temperature (C)                  1.000000  ...             -0.104056\n",
              "Apparent Temperature (C)         0.994014  ...             -0.107550\n",
              "Humidity                        -0.660898  ...              0.036141\n",
              "Wind Speed (km/h)                0.111451  ...             -0.051436\n",
              "Wind Bearing (degrees)           0.121980  ...             -0.081545\n",
              "Visibility (km)                  0.517256  ...             -0.034452\n",
              "Loud Cover                            NaN  ...                   NaN\n",
              "Pressure (millibars)            -0.104056  ...              1.000000\n",
              "\n",
              "[8 rows x 8 columns]"
            ]
          },
          "metadata": {
            "tags": []
          },
          "execution_count": 20
        }
      ]
    },
    {
      "cell_type": "code",
      "metadata": {
        "colab_type": "code",
        "id": "taJeHPnHUxyt",
        "outputId": "48f75c13-63a6-4485-cd23-7c47d28a7fc6",
        "colab": {
          "base_uri": "https://localhost:8080/",
          "height": 624
        }
      },
      "source": [
        "plt.figure(figsize=(15,10))\n",
        "plt.tight_layout()\n",
        "seabornInstance.distplot(dataset['Humidity'])"
      ],
      "execution_count": 21,
      "outputs": [
        {
          "output_type": "execute_result",
          "data": {
            "text/plain": [
              "<matplotlib.axes._subplots.AxesSubplot at 0x7ff5a4c289b0>"
            ]
          },
          "metadata": {
            "tags": []
          },
          "execution_count": 21
        },
        {
          "output_type": "display_data",
          "data": {
            "image/png": "[encoded data removed]",
            "text/plain": [
              "<Figure size 1080x720 with 1 Axes>"
            ]
          },
          "metadata": {
            "tags": [],
            "needs_background": "light"
          }
        }
      ]
    },
    {
      "cell_type": "code",
      "metadata": {
        "colab_type": "code",
        "id": "APXw9iogU-WW",
        "colab": {}
      },
      "source": [
        "X = dataset['Temperature (C)'].values.reshape(-1,1)\n",
        "y = dataset['Humidity'].values.reshape(-1,1)"
      ],
      "execution_count": 0,
      "outputs": []
    },
    {
      "cell_type": "code",
      "metadata": {
        "colab_type": "code",
        "id": "pmNNV_ZbVLR9",
        "colab": {}
      },
      "source": [
        "X_train, X_test, y_train, y_test = train_test_split(X, y, test_size=0.2, random_state=0)"
      ],
      "execution_count": 0,
      "outputs": []
    },
    {
      "cell_type": "code",
      "metadata": {
        "colab_type": "code",
        "id": "yj-UfOC7VPZl",
        "outputId": "f69f8344-e92a-4454-9608-4ce23dfafd5a",
        "colab": {
          "base_uri": "https://localhost:8080/",
          "height": 34
        }
      },
      "source": [
        "regressor = LinearRegression()  \n",
        "regressor.fit(X_train, y_train) #training the algorithm"
      ],
      "execution_count": 24,
      "outputs": [
        {
          "output_type": "execute_result",
          "data": {
            "text/plain": [
              "LinearRegression(copy_X=True, fit_intercept=True, n_jobs=None, normalize=False)"
            ]
          },
          "metadata": {
            "tags": []
          },
          "execution_count": 24
        }
      ]
    },
    {
      "cell_type": "code",
      "metadata": {
        "colab_type": "code",
        "id": "lmXJHb_DVVE_",
        "outputId": "4e6144d6-bb8c-43e3-c064-9630ab675352",
        "colab": {
          "base_uri": "https://localhost:8080/",
          "height": 52
        }
      },
      "source": [
        "#To retrieve the intercept:\n",
        "print(regressor.intercept_)\n",
        "#For retrieving the slope:\n",
        "print(regressor.coef_)"
      ],
      "execution_count": 25,
      "outputs": [
        {
          "output_type": "stream",
          "text": [
            "[0.99463113]\n",
            "[[-0.01561911]]\n"
          ],
          "name": "stdout"
        }
      ]
    },
    {
      "cell_type": "code",
      "metadata": {
        "colab_type": "code",
        "id": "cIfl9M1kViL2",
        "colab": {}
      },
      "source": [
        "y_pred = regressor.predict(X_test)"
      ],
      "execution_count": 0,
      "outputs": []
    },
    {
      "cell_type": "code",
      "metadata": {
        "colab_type": "code",
        "id": "McJNR6lhVla_",
        "outputId": "fef656e5-8009-4abd-cae4-373e82e97795",
        "colab": {
          "base_uri": "https://localhost:8080/",
          "height": 106
        }
      },
      "source": [
        "df = pd.DataFrame({'Actual': y_test.flatten(), 'Predicted': y_pred.flatten()})\n",
        "df.corr()"
      ],
      "execution_count": 27,
      "outputs": [
        {
          "output_type": "execute_result",
          "data": {
            "text/html": [
              "<div>\n",
              "<style scoped>\n",
              "    .dataframe tbody tr th:only-of-type {\n",
              "        vertical-align: middle;\n",
              "    }\n",
              "\n",
              "    .dataframe tbody tr th {\n",
              "        vertical-align: top;\n",
              "    }\n",
              "\n",
              "    .dataframe thead th {\n",
              "        text-align: right;\n",
              "    }\n",
              "</style>\n",
              "<table border=\"1\" class=\"dataframe\">\n",
              "  <thead>\n",
              "    <tr style=\"text-align: right;\">\n",
              "      <th></th>\n",
              "      <th>Actual</th>\n",
              "      <th>Predicted</th>\n",
              "    </tr>\n",
              "  </thead>\n",
              "  <tbody>\n",
              "    <tr>\n",
              "      <th>Actual</th>\n",
              "      <td>1.000000</td>\n",
              "      <td>0.662443</td>\n",
              "    </tr>\n",
              "    <tr>\n",
              "      <th>Predicted</th>\n",
              "      <td>0.662443</td>\n",
              "      <td>1.000000</td>\n",
              "    </tr>\n",
              "  </tbody>\n",
              "</table>\n",
              "</div>"
            ],
            "text/plain": [
              "             Actual  Predicted\n",
              "Actual     1.000000   0.662443\n",
              "Predicted  0.662443   1.000000"
            ]
          },
          "metadata": {
            "tags": []
          },
          "execution_count": 27
        }
      ]
    },
    {
      "cell_type": "code",
      "metadata": {
        "colab_type": "code",
        "id": "R47FbiBuVpbF",
        "outputId": "511ee054-16a7-4ba9-fe20-1e752b9ff233",
        "colab": {
          "base_uri": "https://localhost:8080/",
          "height": 594
        }
      },
      "source": [
        "df1 = df.head(25)\n",
        "df1.plot(kind='bar',figsize=(16,10))\n",
        "plt.grid(which='major', linestyle='-', linewidth='0.5', color='green')\n",
        "plt.grid(which='minor', linestyle=':', linewidth='0.5', color='black')\n",
        "plt.show()"
      ],
      "execution_count": 28,
      "outputs": [
        {
          "output_type": "display_data",
          "data": {
            "image/png": "[encoded data removed]",
            "text/plain": [
              "<Figure size 1152x720 with 1 Axes>"
            ]
          },
          "metadata": {
            "tags": [],
            "needs_background": "light"
          }
        }
      ]
    },
    {
      "cell_type": "code",
      "metadata": {
        "colab_type": "code",
        "id": "Hb5WDd7xVr2W",
        "outputId": "6316b246-4b61-43e1-fd87-bafd1bd6901b",
        "colab": {
          "base_uri": "https://localhost:8080/",
          "height": 265
        }
      },
      "source": [
        "plt.scatter(X_test, y_test,  color='gray')\n",
        "plt.plot(X_test, y_pred, color='red', linewidth=2)\n",
        "plt.show()"
      ],
      "execution_count": 29,
      "outputs": [
        {
          "output_type": "display_data",
          "data": {
            "image/png": "[encoded data removed]",
            "text/plain": [
              "<Figure size 432x288 with 1 Axes>"
            ]
          },
          "metadata": {
            "tags": [],
            "needs_background": "light"
          }
        }
      ]
    },
    {
      "cell_type": "code",
      "metadata": {
        "colab_type": "code",
        "id": "eDkYKxd3Vzhm",
        "outputId": "be79ceb7-f587-42b9-8448-c6361362cb80",
        "colab": {
          "base_uri": "https://localhost:8080/",
          "height": 87
        }
      },
      "source": [
        "print('Mean Absolute Error:', metrics.mean_absolute_error(y_test, y_pred))  \n",
        "print('Mean Squared Error:', metrics.mean_squared_error(y_test, y_pred))  \n",
        "print('Root Mean Squared Error:', np.sqrt(metrics.mean_squared_error(y_test, y_pred)))\n",
        "print('R2 score is: ',metrics.r2_score(y_test,y_pred))"
      ],
      "execution_count": 30,
      "outputs": [
        {
          "output_type": "stream",
          "text": [
            "Mean Absolute Error: 0.09833924739750778\n",
            "Mean Squared Error: 0.015674968314451424\n",
            "Root Mean Squared Error: 0.125199713715533\n",
            "R2 score is:  0.438426886381562\n"
          ],
          "name": "stdout"
        }
      ]
    },
    {
      "cell_type": "markdown",
      "metadata": {
        "id": "6uy9CL_U51RA",
        "colab_type": "text"
      },
      "source": [
        "**Linear regression basics**\n",
        "\n",
        "Linear Regression is a method used to define a relationship between a dependent variable (Y) and independent variable (X). Which is simply written as : <img src = \"/content/y=mx+b.png\" height = 200 width = \"300\"/>\n",
        "\n",
        "Where y is the dependent variable, m is the scale factor or coefficient, b being the bias coefficient and X being the independent variable.\n",
        "\n",
        "Following two methods will be used here to find m slope and intercept b.\n",
        "\n",
        "Least Squares\n",
        "The method of Least Squares minimizes the sum of the squares of the residuals between the observed targets in the dataset, and the targets predicted by the linear approximation.\n",
        "\n",
        "In this method followng formula is used to find slope m and intercept c.\n",
        "\n",
        "<img src = \"/content/leastSquares.png\" height = 200 width = \"300\"/>\n",
        "\n",
        "- x_bar is sum of x values\n",
        "- y_bar is sum of y values\n",
        "\n",
        "Note: For python code refer following code.\n",
        "\n",
        "Gradient Descent\n",
        "This method can be considered universal learning method in the field of machine leanring. It is simple start at randon and gradually reduce error. Following image visulizes method of gradient descent.\n",
        "\n",
        "<img src = \"/content/linear_regression.gif\" height = 400 width = \"600\"/>\n",
        "Wikipedia: https://en.wikipedia.org/wiki/Linear_regression\n",
        "\n",
        "This can be done by updating values of slope and intercept iteratively.\n",
        "\n",
        "Details of Gradient Descent\n",
        "We will take m=0 and b=0 as initial values which is just horizontal line.\n",
        "\n",
        "Our challenge is to determine the value of optimum values of m and c, such that the line corresponding to those values is the best fitting line or gives the minimum error.\n",
        "\n",
        "Error in current values of m and b is called loss function. It means that we need to optimize loss function to reduce error in m and b.\n",
        "\n",
        "Our loss function will be the Root Mean Squared Error function to calculate the loss and is given by following equation.\n",
        "\n",
        "<img src = \"/content/meansqurederror.jpeg\" height = \"50\" />\n",
        "\n",
        "Here yᵢ is the actual value and ȳᵢ is the predicted value.\n",
        "\n",
        "Lets substitute the value of ȳᵢ:\n",
        "\n",
        "<img src = \"/content/meansqurederrorsub.jpeg\" height = 100/>\n",
        "\n",
        "Here, we have mean of squred error, hence the name Mean Squared Error.\n",
        "\n",
        "Now, let's understand how to optimize values of m and b.\n",
        "\n",
        "Gradient descent\n",
        "We will optimize m and b using Gradient descent. It is an iterative optimization algorithm to find the minimum of a function.\n",
        "\n",
        "Imagine a valley and a person as in following image.\n",
        "\n",
        "<img src = \"/content/gd.jpeg\" width = \"500\" />\n",
        "\n",
        "A person has no sense of direction who wants to get to the bottom of the valley. He goes down the slope and takes large steps when the slope is steep and small steps when the slope is less steep. He decides his next position based on his current position and stops when he gets to the bottom of the valley which was his goal.\n",
        "\n",
        "Let’s try applying gradient descent to m and c and approach it step by step:\n",
        "\n",
        "Initially let m = 0 and c = 0. Let L be our learning rate. This controls how much the value of m changes with each step. L could be a small value like 0.0001 for good accuracy.\n",
        "We will define these all as below.\n",
        "\n",
        "m = 0\n",
        "\n",
        "b = 0\n",
        "\n",
        "learning_rate = 0.01\n",
        "\n",
        "Calculate the partial derivative of the loss function with respect to m, and plug in the current values of x, y, m and c in it to obtain the derivative value D. As it is in following equation.\n",
        "<img src = \"/content/dm.jpeg\" />\n",
        "\n",
        "This can be written in code as,\n",
        "\n",
        "D_m = (-2/n) sum(X (Y - Y_pred))\n",
        "\n",
        "Similarly lets find the partial derivative with respect to c, Dc :\n",
        "<img src = \"/content/dc.jpeg\" />\n",
        "\n",
        "and code for dc is given below,\n",
        "\n",
        "D_c = (-2/n) * sum(Y - Y_pred)\n",
        "\n",
        "Now we update the current value of m and c using the following equation: <img src = \"mc.jpeg\" />\n",
        "m = m - L * D_m # Update m\n",
        "\n",
        "c = c - L * D_c # Update c\n",
        "\n",
        "We repeat this process until our loss function is a very small value or ideally 0 (which means 0 error or 100% accuracy). The value of m and c that we are left with now will be the optimum values.\n",
        "Practically we will repeat this process for 1000 time which is defined as,\n",
        "\n",
        "epochs = 1000\n",
        "\n",
        "Now going back to our analogy, m can be considered the current position of the person. D is equivalent to the steepness of the slope and L can be the speed with which he moves. Now the new value of m that we calculate using the above equation will be his next position, and L×D will be the size of the steps he will take. When the slope is more steep (D is more) he takes longer steps and when it is less steep (D is less), he takes smaller steps. Finally he arrives at the bottom of the valley which corresponds to our loss = 0. Now with the optimum value of m and c our model is ready to make predictions !\n"
      ]
    },
    {
      "cell_type": "code",
      "metadata": {
        "id": "GysxygOv6WNC",
        "colab_type": "code",
        "colab": {}
      },
      "source": [
        ""
      ],
      "execution_count": 0,
      "outputs": []
    }
  ]
}